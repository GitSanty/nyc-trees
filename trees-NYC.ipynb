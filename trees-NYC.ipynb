{
 "cells": [
  {
   "cell_type": "code",
   "execution_count": 272,
   "metadata": {},
   "outputs": [],
   "source": [
    "import pandas as pd\n",
    "from matplotlib import pyplot as plt\n",
    "filename=\"./dataset/data_100000.csv\"\n",
    "  \n",
    "# df = pd.read_csv(filename, sep = ',', parse_dates= [col],encoding='utf-8-sig', usecols= ['created_at', 'ids'],)\n",
    "df = pd.read_csv(filename)\n",
    "# The dataset contains no missing values (\"\" or null)\n",
    "# df = df.dropna()"
   ]
  },
  {
   "cell_type": "code",
   "execution_count": 273,
   "metadata": {},
   "outputs": [],
   "source": [
    "# No duplicates.\n",
    "df = df.drop_duplicates()"
   ]
  },
  {
   "cell_type": "code",
   "execution_count": 274,
   "metadata": {},
   "outputs": [
    {
     "data": {
      "text/plain": [
       "0    08/27/2015\n",
       "1    09/03/2015\n",
       "2    09/05/2015\n",
       "3    09/05/2015\n",
       "4    08/30/2015\n",
       "Name: created_at, dtype: object"
      ]
     },
     "execution_count": 274,
     "metadata": {},
     "output_type": "execute_result"
    }
   ],
   "source": [
    "df['created_at'].head()\n",
    "\n"
   ]
  },
  {
   "cell_type": "code",
   "execution_count": 275,
   "metadata": {},
   "outputs": [
    {
     "data": {
      "text/html": [
       "<div>\n",
       "<style scoped>\n",
       "    .dataframe tbody tr th:only-of-type {\n",
       "        vertical-align: middle;\n",
       "    }\n",
       "\n",
       "    .dataframe tbody tr th {\n",
       "        vertical-align: top;\n",
       "    }\n",
       "\n",
       "    .dataframe thead th {\n",
       "        text-align: right;\n",
       "    }\n",
       "</style>\n",
       "<table border=\"1\" class=\"dataframe\">\n",
       "  <thead>\n",
       "    <tr style=\"text-align: right;\">\n",
       "      <th></th>\n",
       "      <th>tree_id</th>\n",
       "      <th>block_id</th>\n",
       "      <th>the_geom</th>\n",
       "      <th>tree_dbh</th>\n",
       "      <th>stump_diam</th>\n",
       "      <th>curb_loc</th>\n",
       "      <th>status</th>\n",
       "      <th>health</th>\n",
       "      <th>spc_latin</th>\n",
       "      <th>spc_common</th>\n",
       "      <th>...</th>\n",
       "      <th>nta_name</th>\n",
       "      <th>boro_ct</th>\n",
       "      <th>state</th>\n",
       "      <th>latitude</th>\n",
       "      <th>longitude</th>\n",
       "      <th>x_sp</th>\n",
       "      <th>y_sp</th>\n",
       "      <th>day</th>\n",
       "      <th>month</th>\n",
       "      <th>year</th>\n",
       "    </tr>\n",
       "  </thead>\n",
       "  <tbody>\n",
       "    <tr>\n",
       "      <th>0</th>\n",
       "      <td>180683</td>\n",
       "      <td>348711</td>\n",
       "      <td>POINT (-73.84421521958048 40.723091773924274)</td>\n",
       "      <td>3</td>\n",
       "      <td>0</td>\n",
       "      <td>OnCurb</td>\n",
       "      <td>Alive</td>\n",
       "      <td>Fair</td>\n",
       "      <td>Acer rubrum</td>\n",
       "      <td>red maple</td>\n",
       "      <td>...</td>\n",
       "      <td>Forest Hills</td>\n",
       "      <td>4073900</td>\n",
       "      <td>New York</td>\n",
       "      <td>40.723092</td>\n",
       "      <td>-73.844215</td>\n",
       "      <td>1.027431e+06</td>\n",
       "      <td>202756.768749</td>\n",
       "      <td>27</td>\n",
       "      <td>08</td>\n",
       "      <td>2015</td>\n",
       "    </tr>\n",
       "    <tr>\n",
       "      <th>1</th>\n",
       "      <td>200540</td>\n",
       "      <td>315986</td>\n",
       "      <td>POINT (-73.81867945834878 40.79411066708779)</td>\n",
       "      <td>21</td>\n",
       "      <td>0</td>\n",
       "      <td>OnCurb</td>\n",
       "      <td>Alive</td>\n",
       "      <td>Fair</td>\n",
       "      <td>Quercus palustris</td>\n",
       "      <td>pin oak</td>\n",
       "      <td>...</td>\n",
       "      <td>Whitestone</td>\n",
       "      <td>4097300</td>\n",
       "      <td>New York</td>\n",
       "      <td>40.794111</td>\n",
       "      <td>-73.818679</td>\n",
       "      <td>1.034456e+06</td>\n",
       "      <td>228644.837379</td>\n",
       "      <td>03</td>\n",
       "      <td>09</td>\n",
       "      <td>2015</td>\n",
       "    </tr>\n",
       "    <tr>\n",
       "      <th>2</th>\n",
       "      <td>204026</td>\n",
       "      <td>218365</td>\n",
       "      <td>POINT (-73.93660770459083 40.717580740099116)</td>\n",
       "      <td>3</td>\n",
       "      <td>0</td>\n",
       "      <td>OnCurb</td>\n",
       "      <td>Alive</td>\n",
       "      <td>Good</td>\n",
       "      <td>Gleditsia triacanthos var. inermis</td>\n",
       "      <td>honeylocust</td>\n",
       "      <td>...</td>\n",
       "      <td>East Williamsburg</td>\n",
       "      <td>3044900</td>\n",
       "      <td>New York</td>\n",
       "      <td>40.717581</td>\n",
       "      <td>-73.936608</td>\n",
       "      <td>1.001823e+06</td>\n",
       "      <td>200716.891267</td>\n",
       "      <td>05</td>\n",
       "      <td>09</td>\n",
       "      <td>2015</td>\n",
       "    </tr>\n",
       "    <tr>\n",
       "      <th>3</th>\n",
       "      <td>204337</td>\n",
       "      <td>217969</td>\n",
       "      <td>POINT (-73.93445615919741 40.713537494833226)</td>\n",
       "      <td>10</td>\n",
       "      <td>0</td>\n",
       "      <td>OnCurb</td>\n",
       "      <td>Alive</td>\n",
       "      <td>Good</td>\n",
       "      <td>Gleditsia triacanthos var. inermis</td>\n",
       "      <td>honeylocust</td>\n",
       "      <td>...</td>\n",
       "      <td>East Williamsburg</td>\n",
       "      <td>3044900</td>\n",
       "      <td>New York</td>\n",
       "      <td>40.713537</td>\n",
       "      <td>-73.934456</td>\n",
       "      <td>1.002420e+06</td>\n",
       "      <td>199244.253136</td>\n",
       "      <td>05</td>\n",
       "      <td>09</td>\n",
       "      <td>2015</td>\n",
       "    </tr>\n",
       "  </tbody>\n",
       "</table>\n",
       "<p>4 rows × 44 columns</p>\n",
       "</div>"
      ],
      "text/plain": [
       "   tree_id  block_id                                       the_geom  tree_dbh  \\\n",
       "0   180683    348711  POINT (-73.84421521958048 40.723091773924274)         3   \n",
       "1   200540    315986   POINT (-73.81867945834878 40.79411066708779)        21   \n",
       "2   204026    218365  POINT (-73.93660770459083 40.717580740099116)         3   \n",
       "3   204337    217969  POINT (-73.93445615919741 40.713537494833226)        10   \n",
       "\n",
       "   stump_diam curb_loc status health                           spc_latin  \\\n",
       "0           0   OnCurb  Alive   Fair                         Acer rubrum   \n",
       "1           0   OnCurb  Alive   Fair                   Quercus palustris   \n",
       "2           0   OnCurb  Alive   Good  Gleditsia triacanthos var. inermis   \n",
       "3           0   OnCurb  Alive   Good  Gleditsia triacanthos var. inermis   \n",
       "\n",
       "    spc_common  ...           nta_name  boro_ct     state   latitude  \\\n",
       "0    red maple  ...       Forest Hills  4073900  New York  40.723092   \n",
       "1      pin oak  ...         Whitestone  4097300  New York  40.794111   \n",
       "2  honeylocust  ...  East Williamsburg  3044900  New York  40.717581   \n",
       "3  honeylocust  ...  East Williamsburg  3044900  New York  40.713537   \n",
       "\n",
       "   longitude          x_sp           y_sp day month  year  \n",
       "0 -73.844215  1.027431e+06  202756.768749  27    08  2015  \n",
       "1 -73.818679  1.034456e+06  228644.837379  03    09  2015  \n",
       "2 -73.936608  1.001823e+06  200716.891267  05    09  2015  \n",
       "3 -73.934456  1.002420e+06  199244.253136  05    09  2015  \n",
       "\n",
       "[4 rows x 44 columns]"
      ]
     },
     "execution_count": 275,
     "metadata": {},
     "output_type": "execute_result"
    }
   ],
   "source": [
    "df['created_at'] = pd.to_datetime(df['created_at'], errors='coerce')\n",
    "df['day'] = df['created_at'].dt.strftime('%d')\n",
    "df['month'] = df['created_at'].dt.strftime('%m')\n",
    "df['year'] = df['created_at'].dt.strftime('%Y')\n",
    "df = df.drop('created_at', 1) \n",
    "\n",
    "df.head(4)"
   ]
  },
  {
   "cell_type": "code",
   "execution_count": 277,
   "metadata": {},
   "outputs": [],
   "source": [
    "# _columns = ['curb_loc','status','health','spc_latin','nta_name','state']\n",
    "df['curb_loc'] = df['curb_loc'].map(lambda x: x.lstrip().rstrip())\n",
    "df['status'] = df['status'].map(lambda x: x.lstrip().rstrip())\n",
    "# df['health'] = df['health'].map(lambda x: x.lstrip().rstrip())\n",
    "# df['spc_latin'] = df['spc_latin'].map(lambda x: x.lstrip().rstrip())\n",
    "df['nta_name'] = df['nta_name'].map(lambda x: x.lstrip().rstrip())\n",
    "df['state'] = df['state'].map(lambda x: x.lstrip().rstrip())"
   ]
  },
  {
   "cell_type": "code",
   "execution_count": 278,
   "metadata": {},
   "outputs": [],
   "source": [
    "# drop colimns\n",
    "df = df.drop('the_geom', 1) \n",
    "df = df.drop('curb_loc', 1) \n",
    "df = df.drop('spc_latin', 1)\n",
    "df = df.drop('spc_common', 1)\n",
    "df = df.drop('problems', 1)\n",
    "df = df.drop('trnk_wire', 1)\n",
    "df = df.drop('trnk_light', 1)\n",
    "df = df.drop('trnk_other', 1)\n",
    "df = df.drop('brnch_ligh', 1)\n",
    "df = df.drop('brnch_shoe', 1)\n",
    "df = df.drop('brnch_othe', 1)\n",
    "df = df.drop('address', 1)\n",
    "df = df.drop('zip_city', 1)\n",
    "df = df.drop('boroname', 1)\n",
    "df = df.drop('st_assem', 1)\n",
    "df = df.drop('st_senate', 1)\n",
    "df = df.drop('nta', 1) \n",
    "df = df.drop('nta_name', 1) \n",
    "df = df.drop('boro_ct', 1)\n",
    "df = df.drop('state', 1) \n",
    "df = df.drop('latitude', 1)\n",
    "df = df.drop('longitude', 1)\n",
    "df = df.drop('x_sp', 1)\n",
    "df = df.drop('y_sp', 1)\n",
    "df = df.drop('status', 1)\n",
    " \n"
   ]
  },
  {
   "cell_type": "code",
   "execution_count": 351,
   "metadata": {},
   "outputs": [
    {
     "data": {
      "text/plain": [
       "tree_id        int64\n",
       "block_id       int64\n",
       "tree_dbh       int64\n",
       "stump_diam     int64\n",
       "status        object\n",
       "year          object\n",
       "steward        int64\n",
       "guards         int64\n",
       "sidewalk       int64\n",
       "user_type      int64\n",
       "root_stone     int64\n",
       "root_grate     int64\n",
       "root_other     int64\n",
       "zipcode        int64\n",
       "cb_num         int64\n",
       "borocode       int64\n",
       "cncldist       int64\n",
       "day           object\n",
       "month         object\n",
       "health         int64\n",
       "dtype: object"
      ]
     },
     "execution_count": 351,
     "metadata": {},
     "output_type": "execute_result"
    }
   ],
   "source": [
    "df.dtypes"
   ]
  },
  {
   "cell_type": "code",
   "execution_count": 352,
   "metadata": {},
   "outputs": [
    {
     "ename": "AttributeError",
     "evalue": "'int' object has no attribute 'split'",
     "output_type": "error",
     "traceback": [
      "\u001b[1;31m---------------------------------------------------------------------------\u001b[0m",
      "\u001b[1;31mAttributeError\u001b[0m                            Traceback (most recent call last)",
      "\u001b[1;32m<ipython-input-352-d6f2021a2e9c>\u001b[0m in \u001b[0;36m<module>\u001b[1;34m\u001b[0m\n\u001b[0;32m      1\u001b[0m \u001b[0mall_items\u001b[0m \u001b[1;33m=\u001b[0m \u001b[1;33m[\u001b[0m\u001b[1;33m]\u001b[0m\u001b[1;33m\u001b[0m\u001b[1;33m\u001b[0m\u001b[0m\n\u001b[0;32m      2\u001b[0m \u001b[1;32mfor\u001b[0m \u001b[0mx\u001b[0m \u001b[1;32min\u001b[0m \u001b[0mdf\u001b[0m\u001b[1;33m.\u001b[0m\u001b[0mstatus\u001b[0m\u001b[1;33m:\u001b[0m\u001b[1;33m\u001b[0m\u001b[1;33m\u001b[0m\u001b[0m\n\u001b[1;32m----> 3\u001b[1;33m     \u001b[0mall_items\u001b[0m\u001b[1;33m.\u001b[0m\u001b[0mextend\u001b[0m\u001b[1;33m(\u001b[0m\u001b[0mx\u001b[0m\u001b[1;33m.\u001b[0m\u001b[0msplit\u001b[0m\u001b[1;33m(\u001b[0m\u001b[1;34m'|'\u001b[0m\u001b[1;33m)\u001b[0m\u001b[1;33m)\u001b[0m\u001b[1;33m\u001b[0m\u001b[1;33m\u001b[0m\u001b[0m\n\u001b[0m\u001b[0;32m      4\u001b[0m \u001b[0mall_items\u001b[0m \u001b[1;33m=\u001b[0m \u001b[0mpd\u001b[0m\u001b[1;33m.\u001b[0m\u001b[0munique\u001b[0m\u001b[1;33m(\u001b[0m\u001b[0mall_items\u001b[0m\u001b[1;33m)\u001b[0m\u001b[1;33m\u001b[0m\u001b[1;33m\u001b[0m\u001b[0m\n\u001b[0;32m      5\u001b[0m \u001b[0mall_items\u001b[0m\u001b[1;33m\u001b[0m\u001b[1;33m\u001b[0m\u001b[0m\n",
      "\u001b[1;31mAttributeError\u001b[0m: 'int' object has no attribute 'split'"
     ]
    }
   ],
   "source": [
    " \n",
    "all_items = []\n",
    "for x in df.status:\n",
    "    all_items.extend(x.split('|'))\n",
    "all_items = pd.unique(all_items)\n",
    "all_items"
   ]
  },
  {
   "cell_type": "code",
   "execution_count": 279,
   "metadata": {
    "scrolled": true
   },
   "outputs": [],
   "source": [
    "# convert to integer categorical variable 'health' to numerical variable 1 and 2\n",
    " \n",
    "# df['curb_loc'].replace(('OnCurb'),(1), inplace =True)\n",
    "df['status'].replace(('Alive'),(1), inplace =True)\n",
    "df['health'].replace(('Fair','Good','Poor'),(3,2,1), inplace =True)\n",
    "df['steward'].replace(('None','1or2','3or4','4orMore'),(1,2,3,4), inplace =True)\n",
    "df['guards'].replace(('None','Helpful','Harmful','Unsure'),(1,2,3,4), inplace =True)\n",
    "df['sidewalk'].replace(('NoDamage','Damage'),(1,2), inplace =True) \n",
    "df['user_type'].replace(('TreesCount Staff','Volunteer','NYC Parks Staff'),(1,2,3), inplace =True) \n",
    "df['root_stone'].replace(('No','Yes'),(1,2), inplace =True)\n",
    "df['root_grate'].replace(('No', 'Yes'),(1,2), inplace =True)\n",
    "df['root_other'].replace(('No', 'Yes'),(1,2), inplace =True)\n",
    "# df['trnk_wire'].replace(('No', 'Yes'),(1,2), inplace =True)\n",
    "\n",
    "\n",
    "\n",
    "\n",
    "\n",
    "\n"
   ]
  },
  {
   "cell_type": "code",
   "execution_count": 281,
   "metadata": {},
   "outputs": [],
   "source": [
    "df.to_csv('./dataset/data_10000.csv')"
   ]
  },
  {
   "cell_type": "code",
   "execution_count": 359,
   "metadata": {},
   "outputs": [],
   "source": [
    "# x = 0\n",
    "# df['sidewalk'].replace((np.nan, np.int64(x)), inplace=True)\n",
    "# df['sidewalk'].replace((np.inf, np.int64(x)), inplace=True)\n",
    "df = df.drop('status', 1)"
   ]
  },
  {
   "cell_type": "code",
   "execution_count": 368,
   "metadata": {
    "scrolled": true
   },
   "outputs": [
    {
     "data": {
      "text/html": [
       "<div>\n",
       "<style scoped>\n",
       "    .dataframe tbody tr th:only-of-type {\n",
       "        vertical-align: middle;\n",
       "    }\n",
       "\n",
       "    .dataframe tbody tr th {\n",
       "        vertical-align: top;\n",
       "    }\n",
       "\n",
       "    .dataframe thead th {\n",
       "        text-align: right;\n",
       "    }\n",
       "</style>\n",
       "<table border=\"1\" class=\"dataframe\">\n",
       "  <thead>\n",
       "    <tr style=\"text-align: right;\">\n",
       "      <th></th>\n",
       "      <th>tree_id</th>\n",
       "      <th>block_id</th>\n",
       "      <th>tree_dbh</th>\n",
       "      <th>stump_diam</th>\n",
       "      <th>year</th>\n",
       "      <th>steward</th>\n",
       "      <th>guards</th>\n",
       "      <th>sidewalk</th>\n",
       "      <th>user_type</th>\n",
       "      <th>root_stone</th>\n",
       "      <th>root_grate</th>\n",
       "      <th>root_other</th>\n",
       "      <th>zipcode</th>\n",
       "      <th>cb_num</th>\n",
       "      <th>borocode</th>\n",
       "      <th>cncldist</th>\n",
       "      <th>day</th>\n",
       "      <th>month</th>\n",
       "      <th>health</th>\n",
       "    </tr>\n",
       "  </thead>\n",
       "  <tbody>\n",
       "    <tr>\n",
       "      <th>0</th>\n",
       "      <td>180683</td>\n",
       "      <td>348711</td>\n",
       "      <td>3</td>\n",
       "      <td>0</td>\n",
       "      <td>2015</td>\n",
       "      <td>1</td>\n",
       "      <td>1</td>\n",
       "      <td>1</td>\n",
       "      <td>1</td>\n",
       "      <td>1</td>\n",
       "      <td>1</td>\n",
       "      <td>1</td>\n",
       "      <td>11375</td>\n",
       "      <td>406</td>\n",
       "      <td>4</td>\n",
       "      <td>29</td>\n",
       "      <td>27</td>\n",
       "      <td>8</td>\n",
       "      <td>3</td>\n",
       "    </tr>\n",
       "    <tr>\n",
       "      <th>1</th>\n",
       "      <td>200540</td>\n",
       "      <td>315986</td>\n",
       "      <td>21</td>\n",
       "      <td>0</td>\n",
       "      <td>2015</td>\n",
       "      <td>1</td>\n",
       "      <td>1</td>\n",
       "      <td>2</td>\n",
       "      <td>1</td>\n",
       "      <td>2</td>\n",
       "      <td>1</td>\n",
       "      <td>1</td>\n",
       "      <td>11357</td>\n",
       "      <td>407</td>\n",
       "      <td>4</td>\n",
       "      <td>19</td>\n",
       "      <td>3</td>\n",
       "      <td>9</td>\n",
       "      <td>3</td>\n",
       "    </tr>\n",
       "    <tr>\n",
       "      <th>2</th>\n",
       "      <td>204026</td>\n",
       "      <td>218365</td>\n",
       "      <td>3</td>\n",
       "      <td>0</td>\n",
       "      <td>2015</td>\n",
       "      <td>2</td>\n",
       "      <td>1</td>\n",
       "      <td>2</td>\n",
       "      <td>2</td>\n",
       "      <td>1</td>\n",
       "      <td>1</td>\n",
       "      <td>1</td>\n",
       "      <td>11211</td>\n",
       "      <td>301</td>\n",
       "      <td>3</td>\n",
       "      <td>34</td>\n",
       "      <td>5</td>\n",
       "      <td>9</td>\n",
       "      <td>2</td>\n",
       "    </tr>\n",
       "    <tr>\n",
       "      <th>3</th>\n",
       "      <td>204337</td>\n",
       "      <td>217969</td>\n",
       "      <td>10</td>\n",
       "      <td>0</td>\n",
       "      <td>2015</td>\n",
       "      <td>1</td>\n",
       "      <td>1</td>\n",
       "      <td>2</td>\n",
       "      <td>2</td>\n",
       "      <td>2</td>\n",
       "      <td>1</td>\n",
       "      <td>1</td>\n",
       "      <td>11211</td>\n",
       "      <td>301</td>\n",
       "      <td>3</td>\n",
       "      <td>34</td>\n",
       "      <td>5</td>\n",
       "      <td>9</td>\n",
       "      <td>2</td>\n",
       "    </tr>\n",
       "  </tbody>\n",
       "</table>\n",
       "</div>"
      ],
      "text/plain": [
       "   tree_id  block_id  tree_dbh  stump_diam  year  steward  guards  sidewalk  \\\n",
       "0   180683    348711         3           0  2015        1       1         1   \n",
       "1   200540    315986        21           0  2015        1       1         2   \n",
       "2   204026    218365         3           0  2015        2       1         2   \n",
       "3   204337    217969        10           0  2015        1       1         2   \n",
       "\n",
       "   user_type  root_stone  root_grate  root_other  zipcode  cb_num  borocode  \\\n",
       "0          1           1           1           1    11375     406         4   \n",
       "1          1           2           1           1    11357     407         4   \n",
       "2          2           1           1           1    11211     301         3   \n",
       "3          2           2           1           1    11211     301         3   \n",
       "\n",
       "   cncldist  day  month  health  \n",
       "0        29   27      8       3  \n",
       "1        19    3      9       3  \n",
       "2        34    5      9       2  \n",
       "3        34    5      9       2  "
      ]
     },
     "execution_count": 368,
     "metadata": {},
     "output_type": "execute_result"
    }
   ],
   "source": [
    "# df.head()\n",
    "# df.columns\n",
    "# df = df[['tree_id', 'block_id', 'tree_dbh', 'stump_diam', 'status','year',\n",
    "#        'steward', 'guards', 'sidewalk', 'user_type', 'root_stone',\n",
    "#        'root_grate', 'root_other', 'zipcode', 'cb_num', 'borocode', 'cncldist',\n",
    "#        'day', 'month', 'health']]\n",
    "# df.head\n",
    "# df['status'] = df['status'].astype(np.int64) \n",
    " \n",
    "df.head(4)"
   ]
  },
  {
   "cell_type": "code",
   "execution_count": 364,
   "metadata": {},
   "outputs": [],
   "source": [
    "import numpy as np\n",
    "\n",
    "dataset = df.values\n",
    "x = dataset[:, 0:18]\n",
    "y = np.asarray(dataset[:,18], dtype = 'S6')\n"
   ]
  },
  {
   "cell_type": "code",
   "execution_count": 365,
   "metadata": {},
   "outputs": [
    {
     "data": {
      "text/plain": [
       "DecisionTreeClassifier(max_depth=10)"
      ]
     },
     "execution_count": 365,
     "metadata": {},
     "output_type": "execute_result"
    }
   ],
   "source": [
    "from sklearn import tree\n",
    "from sklearn.model_selection import train_test_split, cross_val_score\n",
    "from sklearn import metrics\n",
    "\n",
    "X_Train, X_Test, Y_Train, Y_Test = train_test_split(x,y, test_size = 0.2, random_state = 0)\n",
    "\n",
    "tr = tree.DecisionTreeClassifier(max_depth=10)\n",
    " \n",
    "tr.fit(X_Train, Y_Train)\n",
    "\n"
   ]
  },
  {
   "cell_type": "code",
   "execution_count": 366,
   "metadata": {},
   "outputs": [],
   "source": [
    "y_pred= tr.predict(X_Test)\n"
   ]
  },
  {
   "cell_type": "code",
   "execution_count": 367,
   "metadata": {},
   "outputs": [
    {
     "data": {
      "text/plain": [
       "array([b'2', b'2', b'2', ..., b'2', b'2', b'2'], dtype='|S6')"
      ]
     },
     "execution_count": 367,
     "metadata": {},
     "output_type": "execute_result"
    }
   ],
   "source": [
    "y_pred"
   ]
  },
  {
   "cell_type": "code",
   "execution_count": 369,
   "metadata": {},
   "outputs": [
    {
     "name": "stdout",
     "output_type": "stream",
     "text": [
      "Presition : 0.7639\n"
     ]
    }
   ],
   "source": [
    "score = tr.score(X_Test, Y_Test)\n",
    "print('Presition : %0.4f' % (score))"
   ]
  }
 ],
 "metadata": {
  "kernelspec": {
   "display_name": "Python 3",
   "language": "python",
   "name": "python3"
  },
  "language_info": {
   "codemirror_mode": {
    "name": "ipython",
    "version": 3
   },
   "file_extension": ".py",
   "mimetype": "text/x-python",
   "name": "python",
   "nbconvert_exporter": "python",
   "pygments_lexer": "ipython3",
   "version": "3.8.6"
  }
 },
 "nbformat": 4,
 "nbformat_minor": 4
}
